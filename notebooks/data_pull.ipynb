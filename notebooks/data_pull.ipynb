{
 "cells": [
  {
   "cell_type": "code",
   "execution_count": 1,
   "id": "d8d1e342-444f-4e34-a898-1867f0742b38",
   "metadata": {},
   "outputs": [],
   "source": [
    "import os\n",
    "import cv2\n",
    "from datetime import timedelta\n",
    "import matplotlib.pyplot as plt\n",
    "import numpy as np\n",
    "import odc.stac\n",
    "import pandas as pd\n",
    "from pathlib import Path\n",
    "from sklearn.metrics import mean_squared_error\n",
    "from tqdm import tqdm\n",
    "import rioxarray\n",
    "from PIL import Image as PILImage"
   ]
  },
  {
   "cell_type": "code",
   "execution_count": 14,
   "id": "bb44987b-2055-40ed-b214-2bd05ae7400c",
   "metadata": {},
   "outputs": [],
   "source": [
    "farm_location = [\n",
    "    (-7.675039,107.769191, 'jawa'),\n",
    "    (-7.786883,108.155444, 'jawa'),\n",
    "    (-5.552498,120.375194, 'sulawesi'),\n",
    "    (-5.559804,120.376871, 'sulawesi'),\n",
    "    (-5.573898,120.384974, 'sulawesi')\n",
    "]"
   ]
  },
  {
   "cell_type": "markdown",
   "id": "166cde10-24cf-4462-bafc-56d2784ed46a",
   "metadata": {},
   "source": [
    "# Get Image Data"
   ]
  },
  {
   "cell_type": "code",
   "execution_count": 4,
   "id": "cb6f817f-f17d-4382-8b19-f8a29cb9fb8e",
   "metadata": {},
   "outputs": [],
   "source": [
    "import planetary_computer as pc\n",
    "from pystac_client import Client\n",
    "import geopy.distance as distance"
   ]
  },
  {
   "cell_type": "code",
   "execution_count": 5,
   "id": "5c484b86-735e-40e3-bbc3-613590481709",
   "metadata": {},
   "outputs": [],
   "source": [
    "# get our bounding box to search latitude and longitude coordinates\n",
    "def get_bounding_box(latitude, longitude, meter_buffer=50000):\n",
    "    \"\"\"\n",
    "    Given a latitude, longitude, and buffer in meters, returns a bounding\n",
    "    box around the point with the buffer on the left, right, top, and bottom.\n",
    "\n",
    "    Returns a list of [minx, miny, maxx, maxy]\n",
    "    \"\"\"\n",
    "    distance_search = distance.distance(meters=meter_buffer)\n",
    "\n",
    "    # calculate the lat/long bounds based on ground distance\n",
    "    # bearings are cardinal directions to move (south, west, north, and east)\n",
    "    min_lat = distance_search.destination((latitude, longitude), bearing=180)[0]\n",
    "    min_long = distance_search.destination((latitude, longitude), bearing=270)[1]\n",
    "    max_lat = distance_search.destination((latitude, longitude), bearing=0)[0]\n",
    "    max_long = distance_search.destination((latitude, longitude), bearing=90)[1]\n",
    "\n",
    "    return [min_long, min_lat, max_long, max_lat]"
   ]
  },
  {
   "cell_type": "code",
   "execution_count": 6,
   "id": "2d2a2e0f-0505-4e0a-8abc-ed83894250af",
   "metadata": {},
   "outputs": [],
   "source": [
    "# get our date range to search, and format correctly for query\n",
    "def get_date_range(date, time_buffer_days=15):\n",
    "    \"\"\"Get a date range to search for in the planetary computer based\n",
    "    on a sample's date. The time range will include the sample date\n",
    "    and time_buffer_days days prior\n",
    "\n",
    "    Returns a string\"\"\"\n",
    "    datetime_format = \"%Y-%m-%dT\"\n",
    "    range_start = pd.to_datetime(date) - timedelta(days=time_buffer_days)\n",
    "    date_range = f\"{range_start.strftime(datetime_format)}/{pd.to_datetime(date).strftime(datetime_format)}\"\n",
    "\n",
    "    return date_range"
   ]
  },
  {
   "cell_type": "code",
   "execution_count": 7,
   "id": "f6014c77-8ea2-496e-b21c-95fd33b00c36",
   "metadata": {},
   "outputs": [],
   "source": [
    "def crop_sentinel_image(item, bounding_box):\n",
    "    \"\"\"\n",
    "    Given a STAC item from Sentinel-2 and a bounding box tuple in the format\n",
    "    (minx, miny, maxx, maxy), return a cropped portion of the item's visual\n",
    "    imagery in the bounding box.\n",
    "\n",
    "    Returns the image as a numpy array with dimensions (color band, height, width)\n",
    "    \"\"\"\n",
    "    (minx, miny, maxx, maxy) = bounding_box\n",
    "\n",
    "    image = rioxarray.open_rasterio(pc.sign(item.assets[\"visual\"].href)).rio.clip_box(\n",
    "        minx=minx,\n",
    "        miny=miny,\n",
    "        maxx=maxx,\n",
    "        maxy=maxy,\n",
    "        crs=\"EPSG:4326\",\n",
    "    )\n",
    "\n",
    "    return image.to_numpy()"
   ]
  },
  {
   "cell_type": "code",
   "execution_count": 8,
   "id": "e34a828c-44e1-4306-8294-03bbbf2e85ee",
   "metadata": {},
   "outputs": [],
   "source": [
    "def crop_landsat_image(item, bounding_box):\n",
    "    \"\"\"\n",
    "    Given a STAC item from Landsat and a bounding box tuple in the format\n",
    "    (minx, miny, maxx, maxy), return a cropped portion of the item's visual\n",
    "    imagery in the bounding box.\n",
    "\n",
    "    Returns the image as a numpy array with dimensions (color band, height, width)\n",
    "    \"\"\"\n",
    "    (minx, miny, maxx, maxy) = bounding_box\n",
    "\n",
    "    image = odc.stac.stac_load(\n",
    "        [pc.sign(item)], bands=[\"red\", \"green\", \"blue\"], bbox=[minx, miny, maxx, maxy]\n",
    "    ).isel(time=0)\n",
    "    image_array = image[[\"red\", \"green\", \"blue\"]].to_array().to_numpy()\n",
    "\n",
    "    # normalize to 0 - 255 values\n",
    "    image_array = cv2.normalize(image_array, None, 0, 255, cv2.NORM_MINMAX)\n",
    "\n",
    "    return image_array"
   ]
  },
  {
   "cell_type": "code",
   "execution_count": 9,
   "id": "754f7828-b415-47e7-b1a0-f92c982bf525",
   "metadata": {},
   "outputs": [],
   "source": [
    "def select_best_item(items, date, latitude, longitude):\n",
    "    \"\"\"\n",
    "    Select the best satellite item given a sample's date, latitude, and longitude.\n",
    "    If any Sentinel-2 imagery is available, returns the closest sentinel-2 image by\n",
    "    time. Otherwise, returns the closest Landsat imagery.\n",
    "\n",
    "    Returns a tuple of (STAC item, item platform name, item date)\n",
    "    \"\"\"\n",
    "    # get item details\n",
    "    item_details = pd.DataFrame(\n",
    "        [\n",
    "            {\n",
    "                \"datetime\": item.datetime.strftime(\"%Y-%m-%d\"),\n",
    "                \"platform\": item.properties[\"platform\"],\n",
    "                \"min_long\": item.bbox[0],\n",
    "                \"max_long\": item.bbox[2],\n",
    "                \"min_lat\": item.bbox[1],\n",
    "                \"max_lat\": item.bbox[3],\n",
    "                \"item_obj\": item,\n",
    "            }\n",
    "            for item in items\n",
    "        ]\n",
    "    )\n",
    "\n",
    "    # filter to items that contain the point location, or return None if none contain the point\n",
    "    item_details[\"contains_sample_point\"] = (\n",
    "        (item_details.min_lat < latitude)\n",
    "        & (item_details.max_lat > latitude)\n",
    "        & (item_details.min_long < longitude)\n",
    "        & (item_details.max_long > longitude)\n",
    "    )\n",
    "    item_details = item_details[item_details[\"contains_sample_point\"] == True]\n",
    "    if len(item_details) == 0:\n",
    "        return (np.nan, np.nan, np.nan)\n",
    "\n",
    "    # add time difference between each item and the sample\n",
    "    item_details[\"time_diff\"] = pd.to_datetime(date) - pd.to_datetime(\n",
    "        item_details[\"datetime\"]\n",
    "    )\n",
    "\n",
    "    # if we have sentinel-2, filter to sentinel-2 images only\n",
    "    item_details[\"sentinel\"] = item_details.platform.str.lower().str.contains(\n",
    "        \"sentinel\"\n",
    "    )\n",
    "    if item_details[\"sentinel\"].any():\n",
    "        item_details = item_details[item_details[\"sentinel\"] == True]\n",
    "\n",
    "    # return the closest imagery by time\n",
    "    best_item = item_details.sort_values(by=\"time_diff\", ascending=True).iloc[0]\n",
    "\n",
    "    return (best_item[\"item_obj\"], best_item[\"platform\"], best_item[\"datetime\"])"
   ]
  },
  {
   "cell_type": "code",
   "execution_count": 10,
   "id": "02cc03aa-86e1-4641-9154-4518ad4584d7",
   "metadata": {},
   "outputs": [],
   "source": [
    "def image_to_features(image_array):\n",
    "    \"\"\"\n",
    "    Convert an image array of the form (color band, height, width) to a\n",
    "    1-dimensional list of features. Returns a list where the first three\n",
    "    values are the averages of each color band, and the second three\n",
    "    values are the medians of each color band.\n",
    "    \"\"\"\n",
    "    averages = image_array.mean(axis=(1, 2)).tolist()\n",
    "    medians = np.median(image_array, axis=(1, 2)).tolist()\n",
    "\n",
    "    return averages + medians"
   ]
  },
  {
   "cell_type": "code",
   "execution_count": 37,
   "id": "4cd53cc1-545d-4330-ac2d-dc43dae4be8d",
   "metadata": {},
   "outputs": [],
   "source": [
    "DATA_DIR = \"../data\"\n",
    "\n",
    "# save image arrays in case we want to generate more features\n",
    "IMAGE_ARRAY_DIR = os.path.join(DATA_DIR, \"image_arrays\")\n",
    "os.makedirs(IMAGE_ARRAY_DIR, exist_ok=True)"
   ]
  },
  {
   "cell_type": "code",
   "execution_count": 38,
   "id": "af806497-2270-4e5a-b9a2-3b8c2318a70e",
   "metadata": {},
   "outputs": [],
   "source": [
    "catalog = Client.open(\n",
    "    \"https://planetarycomputer.microsoft.com/api/stac/v1\", modifier=pc.sign_inplace\n",
    ")"
   ]
  },
  {
   "cell_type": "code",
   "execution_count": 39,
   "id": "36dd1b92-392d-4c89-b37f-949ef27a683f",
   "metadata": {},
   "outputs": [],
   "source": [
    "d_metadata = pd.DataFrame(farm_location, columns=['latitude', 'longitude', 'island'])"
   ]
  },
  {
   "cell_type": "code",
   "execution_count": 40,
   "id": "4b9ba440-514a-4297-950c-bc2646efe209",
   "metadata": {},
   "outputs": [],
   "source": [
    "# end of the summer in ID, which later to look up previous days\n",
    "d_metadata['date'] = '2022-08-31'"
   ]
  },
  {
   "cell_type": "code",
   "execution_count": 41,
   "id": "bef64cec-4e75-46e3-b956-879521f702e2",
   "metadata": {},
   "outputs": [],
   "source": [
    "d_metadata['uid'] = list(range(len(farm_location)))"
   ]
  },
  {
   "cell_type": "code",
   "execution_count": 42,
   "id": "c0b089d1-6ec9-497f-b51e-875f8b0067e4",
   "metadata": {},
   "outputs": [],
   "source": [
    "# this cell takes a LONG time because it iterates over all data!\n",
    "\n",
    "# save outputs in dictionaries\n",
    "selected_items = {}\n",
    "features_dict = {}\n",
    "errored_ids = []"
   ]
  },
  {
   "cell_type": "code",
   "execution_count": 43,
   "id": "930d1fea-4d4d-4d9e-83ce-3e2aacc44c65",
   "metadata": {},
   "outputs": [],
   "source": [
    "for idx, row in d_metadata.iterrows():\n",
    "    image_array_pth = os.path.join(IMAGE_ARRAY_DIR, f\"{row.island}_{row.latitude}_{row.longitude}_{row.uid}.jpg\")\n",
    "        \n",
    "    search_bbox = get_bounding_box(\n",
    "        row.latitude, row.longitude, meter_buffer=50000\n",
    "    )\n",
    "    date_range = get_date_range(row.date, time_buffer_days=30)\n",
    "    \n",
    "    #search the planetary computer\n",
    "    search = catalog.search(\n",
    "        collections=[\"sentinel-2-l2a\", \"landsat-c2-l2\"],\n",
    "        bbox=search_bbox,\n",
    "        datetime=date_range\n",
    "    )\n",
    "    items = [item for item in search.get_all_items()]\n",
    "    \n",
    "    if len(items) == 0:\n",
    "        pass\n",
    "    else:\n",
    "        best_item, item_platform, item_date = select_best_item(items, row.date, row.latitude, row.longitude)\n",
    "\n",
    "        selected_items[row.uid] = {\n",
    "            \"item_object\": best_item,\n",
    "            \"item_platform\": item_platform,\n",
    "            \"item_date\": item_date\n",
    "        }\n",
    "        \n",
    "    feature_bbox = get_bounding_box(row.latitude, row.longitude, meter_buffer=500)\n",
    "    \n",
    "    if \"sentinel\" in item_platform.lower():\n",
    "        image_array = crop_sentinel_image(best_item, feature_bbox)\n",
    "    else:\n",
    "        image_array = crop_landsat_image(best_item, feature_bbox)\n",
    "        \n",
    "    # save image\n",
    "    image_array = np.transpose(image_array, axes=[1, 2, 0])\n",
    "    cv2.imwrite(image_array_pth, image_array)"
   ]
  },
  {
   "cell_type": "code",
   "execution_count": 35,
   "id": "89793feb-fe9e-4a8b-bfca-b7bc0aa71070",
   "metadata": {},
   "outputs": [
    {
     "name": "stderr",
     "output_type": "stream",
     "text": [
      "  0%|                                                                                            | 0/5 [00:00<?, ?it/s]\n"
     ]
    }
   ],
   "source": [
    "# this cell takes a LONG time because it iterates over all data!\n",
    "\n",
    "# save outputs in dictionaries\n",
    "selected_items = {}\n",
    "features_dict = {}\n",
    "errored_ids = []\n",
    "\n",
    "for row in tqdm(d_metadata.itertuples(), total=len(d_metadata)):\n",
    "    image_array_pth = os.path.join(IMAGE_ARRAY_DIR, f\"{row.island}_{row.latitude}_{row.longitude}_{row.uid}.jpg\")\n",
    "        \n",
    "    search_bbox = get_bounding_box(\n",
    "        row.latitude, row.longitude, meter_buffer=50000\n",
    "    )\n",
    "    date_range = get_date_range(row.date, time_buffer_days=15)\n",
    "    \n",
    "    #search the planetary computer\n",
    "    search = catalog.search(\n",
    "        collections=[\"sentinel-2-l2a\", \"landsat-c2-l2\"],\n",
    "        bbox=search_bbox,\n",
    "        datetime=date_range\n",
    "    )\n",
    "    items = [item for item in search.get_all_items()]\n",
    "    \n",
    "    if len(items) == 0:\n",
    "        pass\n",
    "    else:\n",
    "        best_item, item_platform, item_date = select_best_item(items, row.date, row.latitude, row.longitude)\n",
    "\n",
    "        selected_items[row.uid] = {\n",
    "            \"item_object\": best_item,\n",
    "            \"item_platform\": item_platform,\n",
    "            \"item_date\": item_date\n",
    "        }\n",
    "\n",
    "    feature_bbox = get_bounding_box(row.latitude, row.longitude, meter_buffer=1000)\n",
    "\n",
    "    if \"sentinel\" in item_platform.lower():\n",
    "        image_array = crop_sentinel_image(best_item, feature_bbox)\n",
    "    else:\n",
    "        image_array = crop_landsat_image(best_item, feature_bbox)\n",
    "    \n",
    "    # save image\n",
    "    image_array = np.transpose(image_array, axes=[1, 2, 0])\n",
    "    cv2.imwrite(image_array_pth, image_array)"
   ]
  }
 ],
 "metadata": {
  "kernelspec": {
   "display_name": "Python 3 (ipykernel)",
   "language": "python",
   "name": "python3"
  },
  "language_info": {
   "codemirror_mode": {
    "name": "ipython",
    "version": 3
   },
   "file_extension": ".py",
   "mimetype": "text/x-python",
   "name": "python",
   "nbconvert_exporter": "python",
   "pygments_lexer": "ipython3",
   "version": "3.9.13"
  }
 },
 "nbformat": 4,
 "nbformat_minor": 5
}
